{
 "cells": [
  {
   "cell_type": "code",
   "execution_count": 6,
   "metadata": {},
   "outputs": [
    {
     "name": "stdout",
     "output_type": "stream",
     "text": [
      "1/1 [==============================] - 0s 67ms/step\n",
      "SM7814168673ac475c86344041cb263dc1\n",
      "Fire Detected\n",
      "SMS sent!\n"
     ]
    }
   ],
   "source": [
    "import cv2\n",
    "#import facevec\n",
    "import numpy as np\n",
    "import smtplib\n",
    "from tensorflow.keras.preprocessing import image \n",
    "from keras.models  import load_model\n",
    "from twilio.rest import Client\n",
    "\n",
    "model = load_model(r'forest.h5') \n",
    "# video = cv2.VideoCapture(0)\n",
    "# name = ['forest','with fire']\n",
    "\n",
    "# while(1):\n",
    "# success, frame = video.read()\n",
    "# cv2.imwrite(\"1.jpg\",frame)\n",
    "    \n",
    "    #give any random image path\n",
    "img = image.load_img(r\"D:\\Emerging Methods for Early Detection of Forest Fires\\Dataset\\train_set\\with fire\\with fire (12).jpg\",target_size= (64,64))#loading of the image\n",
    "x = image.img_to_array(img)\n",
    "#expand the image shape\n",
    "x = np.expand_dims(x,axis = 0)\n",
    "    \n",
    "#     img = image.load_img(\"146019.jpg\",target_size = (128,128,3))\n",
    "#     x  = image.img_to_array(img)\n",
    "#     x = np.expand_dims(x,axis = 0)\n",
    "#pred = model.predict_classes(x)\n",
    "#p = pred[0][0]\n",
    "#print(pred)\n",
    "#cv2.putText(frame, np.array(x_train)[indices.astype(int)])\n",
    "    #out_images = np.array(X_train)[indices.astype(int)]\n",
    "#x = image.img_to_array(img)#image to array\n",
    "#x = np.expand_dims(x,axis = 0)#changing the shape\n",
    "preds=model.predict(x)\n",
    "pred=np.argmax(preds,axis=1)\n",
    "    \n",
    "#pred = model.predict_classes(x)\n",
    "if pred[0]==1:\n",
    "    account_sid = 'AC509848266c8a5e9e67aca996b32a1398'\n",
    "    auth_token = '033e08302b0a3a456358fe9b2c25cc36'\n",
    "    client = Client(account_sid, auth_token)\n",
    "\n",
    "    message = client.messages \\\n",
    "    .create(\n",
    "    body='Forest Fire is detected, stay alert',\n",
    "    from_='+12283386572', #twilio free number\n",
    "    to='+919302455750')\n",
    "    print(message.sid)\n",
    "    \n",
    "    print('Fire Detected')\n",
    "    print ('SMS sent!')\n",
    "    \n",
    "else:\n",
    "    print(\"no danger\")\n",
    "       #break\n",
    "#cv2.imshow(\"image\",frame)\n",
    "   \n",
    "#     if cv2.waitKey(1) & 0xFF == ord('a'): \n",
    "#         break\n",
    "\n",
    "# video.release()\n",
    "# cv2.destroyAllWindows()"
   ]
  },
  {
   "cell_type": "code",
   "execution_count": null,
   "metadata": {},
   "outputs": [],
   "source": []
  }
 ],
 "metadata": {
  "kernelspec": {
   "display_name": "Python 3 (ipykernel)",
   "language": "python",
   "name": "python3"
  },
  "language_info": {
   "codemirror_mode": {
    "name": "ipython",
    "version": 3
   },
   "file_extension": ".py",
   "mimetype": "text/x-python",
   "name": "python",
   "nbconvert_exporter": "python",
   "pygments_lexer": "ipython3",
   "version": "3.9.12"
  }
 },
 "nbformat": 4,
 "nbformat_minor": 4
}
